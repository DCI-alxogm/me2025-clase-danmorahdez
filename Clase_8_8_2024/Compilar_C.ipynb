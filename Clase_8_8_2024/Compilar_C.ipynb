{
  "nbformat": 4,
  "nbformat_minor": 0,
  "metadata": {
    "colab": {
      "provenance": [],
      "authorship_tag": "ABX9TyPM/D+JGWd3wC7J7BB8IrVV",
      "include_colab_link": true
    },
    "kernelspec": {
      "name": "python3",
      "display_name": "Python 3"
    },
    "language_info": {
      "name": "python"
    }
  },
  "cells": [
    {
      "cell_type": "markdown",
      "metadata": {
        "id": "view-in-github",
        "colab_type": "text"
      },
      "source": [
        "<a href=\"https://colab.research.google.com/github/DCI-alxogm/me2025-clase-danmorahdez/blob/main/Clase_8_8_2024/Compilar_C.ipynb\" target=\"_parent\"><img src=\"https://colab.research.google.com/assets/colab-badge.svg\" alt=\"Open In Colab\"/></a>"
      ]
    },
    {
      "cell_type": "code",
      "execution_count": 10,
      "metadata": {
        "colab": {
          "base_uri": "https://localhost:8080/"
        },
        "id": "gFis--4Zh_2m",
        "outputId": "fe7d091f-15be-44e4-e6cd-5d770e1fd35a"
      },
      "outputs": [
        {
          "output_type": "stream",
          "name": "stdout",
          "text": [
            "10"
          ]
        }
      ],
      "source": [
        "!gcc segundo_programa.c -o segundo_programa.out\n",
        "!./segundo_programa.out"
      ]
    },
    {
      "cell_type": "code",
      "source": [
        "!gcc hola_mundo.c -o hola_mundo.out\n",
        "!./hola_mundo.out"
      ],
      "metadata": {
        "colab": {
          "base_uri": "https://localhost:8080/"
        },
        "id": "Clwcn74gmRHN",
        "outputId": "cc905141-9b9a-40b3-8f7f-fa30f9d5a7c0"
      },
      "execution_count": 15,
      "outputs": [
        {
          "output_type": "stream",
          "name": "stdout",
          "text": [
            "Hola Mundo"
          ]
        }
      ]
    }
  ]
}